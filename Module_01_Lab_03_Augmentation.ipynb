{
  "nbformat": 4,
  "nbformat_minor": 0,
  "metadata": {
    "colab": {
      "provenance": [],
      "include_colab_link": true
    },
    "kernelspec": {
      "name": "python3",
      "display_name": "Python 3"
    },
    "language_info": {
      "name": "python"
    }
  },
  "cells": [
    {
      "cell_type": "markdown",
      "metadata": {
        "id": "view-in-github",
        "colab_type": "text"
      },
      "source": [
        "<a href=\"https://colab.research.google.com/github/Vigrahalabhanu3/FFML-226Q1A4409/blob/main/Module_01_Lab_03_Augmentation.ipynb\" target=\"_parent\"><img src=\"https://colab.research.google.com/assets/colab-badge.svg\" alt=\"Open In Colab\"/></a>"
      ]
    },
    {
      "cell_type": "markdown",
      "metadata": {
        "id": "w3yfry25JgZK"
      },
      "source": [
        "# Data augmentation\n",
        "\n",
        "FMML Module 1, Lab 3<br>\n",
        "\n",
        " In this lab, we will see how augmentation of data samples help in improving the machine learning performance"
      ]
    },
    {
      "cell_type": "code",
      "source": [
        "from google.colab import drive\n",
        "drive.mount('/content/gdrive')"
      ],
      "metadata": {
        "id": "LzrMfXU3oywz",
        "outputId": "d2d70bd9-82a0-4c80-ad40-417513b818dd",
        "colab": {
          "base_uri": "https://localhost:8080/"
        }
      },
      "execution_count": 1,
      "outputs": [
        {
          "output_type": "stream",
          "name": "stdout",
          "text": [
            "Mounted at /content/gdrive\n"
          ]
        }
      ]
    },
    {
      "cell_type": "code",
      "metadata": {
        "id": "xZU8_elooqP0"
      },
      "source": [
        "import numpy as np\n",
        "import matplotlib.pyplot as plt\n",
        "from keras.datasets import mnist\n",
        "# set randomseed\n",
        "rng = np.random.default_rng(seed=42)\n",
        "from sklearn.utils.extmath import cartesian\n",
        "from skimage.transform import rotate, AffineTransform, warp\n",
        "import math"
      ],
      "execution_count": 2,
      "outputs": []
    },
    {
      "cell_type": "markdown",
      "metadata": {
        "id": "T5pHYogSMHiE"
      },
      "source": [
        "Augmentation is useful when we have less training data available. Augmentation allows us to 'create' a larger dataset programatically.\n",
        "\n",
        "For this lab we will use a subset of MNIST that is very small, to better understand the effect of augmentation."
      ]
    },
    {
      "cell_type": "code",
      "metadata": {
        "id": "gJvmWJ58ovx5",
        "colab": {
          "base_uri": "https://localhost:8080/"
        },
        "outputId": "df022932-d2b3-4ef4-8d8c-21b8214a0193"
      },
      "source": [
        "#loading the dataset\n",
        "(train_X, train_y), (test_X, test_y) = mnist.load_data()\n",
        "train_X = train_X/255\n",
        "test_X = test_X/255\n",
        "\n",
        "train_X = train_X[::1200,:,:].copy() # subsample. Otherwise it will take too long!\n",
        "train_y = train_y[::1200].copy() # do the same to the labels"
      ],
      "execution_count": 3,
      "outputs": [
        {
          "output_type": "stream",
          "name": "stdout",
          "text": [
            "Downloading data from https://storage.googleapis.com/tensorflow/tf-keras-datasets/mnist.npz\n",
            "11490434/11490434 [==============================] - 1s 0us/step\n"
          ]
        }
      ]
    },
    {
      "cell_type": "markdown",
      "metadata": {
        "id": "8XamH6z1Rt7S"
      },
      "source": [
        "Let us borrow a few functions from the previous labs:"
      ]
    },
    {
      "cell_type": "code",
      "metadata": {
        "id": "Zk2W5_3BRLMS"
      },
      "source": [
        "def NN1(traindata, trainlabel, query):\n",
        "  diff  = traindata - query  # find the difference between features. Numpy automatically takes care of the size here\n",
        "  sq = diff*diff # square the differences\n",
        "  dist = sq.sum(1) # add up the squares\n",
        "  label = trainlabel[np.argmin(dist)] # our predicted label is the label of the training data which has the least distance from the query\n",
        "  return label\n",
        "\n",
        "def NN(traindata, trainlabel, testdata):\n",
        "  # we will run nearest neighbour for each sample in the test data\n",
        "  # and collect the predicted classes in an array using list comprehension\n",
        "  traindata = traindata.reshape(-1, 28*28)\n",
        "  testdata = testdata.reshape(-1,28*28)\n",
        "  predlabel = np.array([NN1(traindata, trainlabel, i) for i in testdata])\n",
        "  return predlabel\n",
        "\n",
        "def Accuracy(gtlabel, predlabel):\n",
        "  assert len(gtlabel)==len(predlabel), \"Length of the groundtruth labels and predicted labels should be the same\"\n",
        "  correct = (gtlabel==predlabel).sum() # count the number of times the groundtruth label is equal to the predicted label.\n",
        "  return correct/len(gtlabel)"
      ],
      "execution_count": 4,
      "outputs": []
    },
    {
      "cell_type": "markdown",
      "metadata": {
        "id": "eGiA3LmDSJZo"
      },
      "source": [
        "In this lab, we will use the image pixels themselves as features, instead of extracting features. Each image has 28*28 pixels, so we will flatten them to 784 pixels to use as features. Note that this is very compute intensive and will take a long time.<br>\n",
        "\n",
        "Let us check the baseline accuracy on the test set without any augmentations. We hope that adding augmentations will help us to get better results."
      ]
    },
    {
      "cell_type": "code",
      "metadata": {
        "id": "4tQvnoasRNEV",
        "colab": {
          "base_uri": "https://localhost:8080/"
        },
        "outputId": "e198c094-d575-415e-a6e7-2d6720e21a55"
      },
      "source": [
        "testpred = NN(train_X, train_y, test_X)\n",
        "print('Baseline accuracy without augmentation is ', Accuracy(test_y, testpred))"
      ],
      "execution_count": 5,
      "outputs": [
        {
          "output_type": "stream",
          "name": "stdout",
          "text": [
            "Baseline accuracy without augmentation is  0.6472\n"
          ]
        }
      ]
    },
    {
      "cell_type": "markdown",
      "metadata": {
        "id": "ZfkcMfhIZQ7U"
      },
      "source": [
        "Let us try to improve this accuracy using augmentations. When we create augmentations, we have to make sure that the changes reflect what will naturally occur in the dataset. For example, we should not add colour to our samples as an augmentation because they do not naturally occur. We should not also flip the images in MNIST, because flipped images have different meanings for digits.\n",
        "\n",
        "### Augmentation 1: rotation\n",
        "\n",
        "Let us try rotating the image a little. We will use skimage library for this."
      ]
    },
    {
      "cell_type": "code",
      "metadata": {
        "id": "z5WolJ9fZE7L",
        "colab": {
          "base_uri": "https://localhost:8080/",
          "height": 590
        },
        "outputId": "1c484b77-fe95-498f-c67c-14eb37d009fd"
      },
      "source": [
        "plt.imshow(train_X[2], cmap='gray')\n",
        "plt.show()\n",
        "plt.imshow(rotate(train_X[2],25), cmap='gray')"
      ],
      "execution_count": 6,
      "outputs": [
        {
          "output_type": "display_data",
          "data": {
            "text/plain": [
              "<Figure size 640x480 with 1 Axes>"
            ],
            "image/png": "[encoded data removed]"
          },
          "metadata": {}
        },
        {
          "output_type": "execute_result",
          "data": {
            "text/plain": [
              "<matplotlib.image.AxesImage at 0x7c63838651e0>"
            ]
          },
          "metadata": {},
          "execution_count": 6
        },
        {
          "output_type": "display_data",
          "data": {
            "text/plain": [
              "<Figure size 640x480 with 1 Axes>"
            ],
            "image/png": "[encoded data removed]"
          },
          "metadata": {}
        }
      ]
    },
    {
      "cell_type": "markdown",
      "metadata": {
        "id": "KE33Yxgggu0c"
      },
      "source": [
        "After rotating, the the class of the image is still the same. Let us make a function to rotate multiple images by random angles. We want a slightly different image every time we run this function. So, we generate a random number between 0 and 1 and change it so that it lies between -constraint/2 and +constraint/2"
      ]
    },
    {
      "cell_type": "code",
      "metadata": {
        "id": "vyM7pUV7Reze"
      },
      "source": [
        "def augRotate(sample, angleconstraint):\n",
        "  if angleconstraint==0:\n",
        "    return sample\n",
        "  if len(sample.shape)==2:\n",
        "    sample = np.expand_dims(sample, 0)  # make sure the sample is 3 dimensional\n",
        "  angle = rng.random(len(sample)) # generate random numbers for angles\n",
        "  angle = (angle-0.5)*angleconstraint # make the random angle constrained\n",
        "  nsample = sample.copy() # preallocate the augmented array to make it faster\n",
        "  for ii in range(len(sample)):\n",
        "    nsample[ii] = rotate(sample[ii], angle[ii])\n",
        "  return np.squeeze(nsample) # take care if the input had only one sample."
      ],
      "execution_count": 7,
      "outputs": []
    },
    {
      "cell_type": "markdown",
      "metadata": {
        "id": "kDk-N5VNjar9"
      },
      "source": [
        "This function returns a slightly different image each time we call it. So we can increase the number of images in the sample by any multiple."
      ]
    },
    {
      "cell_type": "code",
      "metadata": {
        "id": "Vw3O9zGFgI8K",
        "colab": {
          "base_uri": "https://localhost:8080/",
          "height": 417
        },
        "outputId": "02ddd21b-c9fe-469f-df2a-e77b8cb56289"
      },
      "source": [
        "sample = train_X[20]\n",
        "angleconstraint = 70\n",
        "# show the original image\n",
        "plt.imshow(sample, cmap='gray')\n",
        "plt.show()\n",
        "plt.subplot(1,3,1)\n",
        "plt.imshow(augRotate(sample, angleconstraint), cmap='gray') # show an augmented image\n",
        "plt.subplot(1,3,2)\n",
        "plt.imshow(augRotate(sample, angleconstraint), cmap='gray') # show another augmented image from the same sample\n",
        "plt.subplot(1,3,3)\n",
        "plt.imshow(augRotate(sample, angleconstraint), cmap='gray') # one more image from the same sample"
      ],
      "execution_count": 8,
      "outputs": [
        {
          "output_type": "display_data",
          "data": {
            "text/plain": [
              "<Figure size 640x480 with 1 Axes>"
            ],
            "image/png": "[encoded data removed]"
          },
          "metadata": {}
        },
        {
          "output_type": "execute_result",
          "data": {
            "text/plain": [
              "<matplotlib.image.AxesImage at 0x7c638365af50>"
            ]
          },
          "metadata": {},
          "execution_count": 8
        },
        {
          "output_type": "display_data",
          "data": {
            "text/plain": [
              "<Figure size 640x480 with 3 Axes>"
            ],
            "image/png": "[encoded data removed]"
          },
          "metadata": {}
        }
      ]
    },
    {
      "cell_type": "markdown",
      "metadata": {
        "id": "ytv3NxF-kgxN"
      },
      "source": [
        "Let us augment the whole dataset and see if this improves the test accuracy"
      ]
    },
    {
      "cell_type": "code",
      "metadata": {
        "id": "iNzNAoDBkRzj",
        "colab": {
          "base_uri": "https://localhost:8080/"
        },
        "outputId": "8e67fa7e-a651-4239-86f8-1dfe925579f5"
      },
      "source": [
        "# hyperparameters\n",
        "angleconstraint = 60\n",
        "naugmentations = 5\n",
        "\n",
        "# augment\n",
        "augdata = train_X # we include the original images also in the augmented dataset\n",
        "auglabel = train_y\n",
        "for ii in range(naugmentations):\n",
        "  augdata = np.concatenate((augdata, augRotate(train_X, angleconstraint))) # concatenate the augmented data to the set\n",
        "  auglabel = np.concatenate((auglabel, train_y))  # the labels don't change when we augment\n",
        "\n",
        "# check the test accuracy\n",
        "testpred = NN(augdata, auglabel, test_X)\n",
        "print('Accuracy after rotation augmentation is ', Accuracy(test_y, testpred))"
      ],
      "execution_count": 9,
      "outputs": [
        {
          "output_type": "stream",
          "name": "stdout",
          "text": [
            "Accuracy after rotation augmentation is  0.6616\n"
          ]
        }
      ]
    },
    {
      "cell_type": "markdown",
      "metadata": {
        "id": "E88Nt9s1p5R6"
      },
      "source": [
        "The angle constraint is a hyperparameter which we have to tune using a validation set. (Here we are not doing that for time constraints). Let us try a grid search to find the best angle constraint."
      ]
    },
    {
      "cell_type": "code",
      "metadata": {
        "id": "aiaFRLREmGp6",
        "colab": {
          "base_uri": "https://localhost:8080/"
        },
        "outputId": "70d4caea-e96a-46ac-a1b5-20a2dc3fbc7f"
      },
      "source": [
        "angleconstraints = [0,10,20,30,40,50,60,70,80,90] # the values we want to test\n",
        "accuracies = np.zeros(len(angleconstraints), dtype=np.float) # we will save the values here\n",
        "\n",
        "for ii in range(len(angleconstraints)):\n",
        "  # create the augmented dataset\n",
        "  augdata = train_X # we include the original images also in the augmented dataset\n",
        "  auglabel = train_y\n",
        "  for jj in range(naugmentations):\n",
        "    augdata = np.concatenate((augdata, augRotate(train_X, angleconstraints[ii]))) # concatenate the augmented data to the set\n",
        "    auglabel = np.concatenate((auglabel, train_y))  # the labels don't change when we augment\n",
        "\n",
        "  # check the test accuracy\n",
        "  testpred = NN(augdata, auglabel, test_X)\n",
        "  accuracies[ii] = Accuracy(test_y, testpred)\n",
        "  print('Accuracy after rotation augmentation constrained by ',angleconstraints[ii], ' is ', accuracies[ii], flush=True)"
      ],
      "execution_count": 10,
      "outputs": [
        {
          "output_type": "stream",
          "name": "stderr",
          "text": [
            "<ipython-input-10-2f14d3721156>:2: DeprecationWarning: `np.float` is a deprecated alias for the builtin `float`. To silence this warning, use `float` by itself. Doing this will not modify any behavior and is safe. If you specifically wanted the numpy scalar type, use `np.float64` here.\n",
            "Deprecated in NumPy 1.20; for more details and guidance: https://numpy.org/devdocs/release/1.20.0-notes.html#deprecations\n",
            "  accuracies = np.zeros(len(angleconstraints), dtype=np.float) # we will save the values here\n"
          ]
        },
        {
          "output_type": "stream",
          "name": "stdout",
          "text": [
            "Accuracy after rotation augmentation constrained by  0  is  0.6472\n",
            "Accuracy after rotation augmentation constrained by  10  is  0.6727\n",
            "Accuracy after rotation augmentation constrained by  20  is  0.673\n",
            "Accuracy after rotation augmentation constrained by  30  is  0.6737\n",
            "Accuracy after rotation augmentation constrained by  40  is  0.6731\n",
            "Accuracy after rotation augmentation constrained by  50  is  0.6701\n",
            "Accuracy after rotation augmentation constrained by  60  is  0.6675\n",
            "Accuracy after rotation augmentation constrained by  70  is  0.661\n",
            "Accuracy after rotation augmentation constrained by  80  is  0.6462\n",
            "Accuracy after rotation augmentation constrained by  90  is  0.6469\n"
          ]
        }
      ]
    },
    {
      "cell_type": "markdown",
      "metadata": {
        "id": "2oVDRYP2rxob"
      },
      "source": [
        "Let us see the best value for angle constraint: (Ideally this should be done on validation set, not test set)"
      ]
    },
    {
      "cell_type": "code",
      "metadata": {
        "id": "LqthJa_pmMHz",
        "colab": {
          "base_uri": "https://localhost:8080/",
          "height": 275
        },
        "outputId": "bf50597e-aa48-4fd6-c1f6-dbcb64dc2888"
      },
      "source": [
        "fig = plt.figure()\n",
        "ax = fig.add_axes([0.1, 0.1, 0.8, 0.8]) # main axes\n",
        "# plot the variation of accuracy\n",
        "ax.plot(angleconstraints, accuracies)\n",
        "ax.set_xlabel('angle')\n",
        "ax.set_ylabel('accuracy')\n",
        "# plot the maximum accuracy\n",
        "maxind = np.argmax(accuracies)\n",
        "plt.scatter(angleconstraints[maxind], accuracies[maxind], c='red')"
      ],
      "execution_count": 11,
      "outputs": [
        {
          "output_type": "execute_result",
          "data": {
            "text/plain": [
              "<matplotlib.collections.PathCollection at 0x7c63833ff4c0>"
            ]
          },
          "metadata": {},
          "execution_count": 11
        },
        {
          "output_type": "display_data",
          "data": {
            "text/plain": [
              "<Figure size 640x480 with 1 Axes>"
            ],
            "image/png": "[encoded data removed]"
          },
          "metadata": {}
        }
      ]
    },
    {
      "cell_type": "markdown",
      "metadata": {
        "id": "eJ8YuVfCuGTj"
      },
      "source": [
        "Let us try one more augmentation: shear. Here is what this looks like:"
      ]
    },
    {
      "cell_type": "code",
      "metadata": {
        "id": "pMiw46NLwssK"
      },
      "source": [
        "def shear(sample, amount):\n",
        "  tform = AffineTransform(shear = amount) # create the shear transform\n",
        "  img = warp(sample, tform) # apply the shear\n",
        "  # this makes the digit off-center. Since all the images in the test set are centralized, we will do the same here\n",
        "  col = img.sum(0).nonzero()[0]\n",
        "  row = img.sum(1).nonzero()[0]\n",
        "  if len(col)>0 and len(row)>0:\n",
        "    xshift = int(sample.shape[0]/2 - (row[0]+row[-1])/2)\n",
        "    yshift = int(sample.shape[1]/2 - (col[0]+col[-1])/2)\n",
        "    img = np.roll(img, (xshift, yshift),(0,1))\n",
        "  return img"
      ],
      "execution_count": 12,
      "outputs": []
    },
    {
      "cell_type": "code",
      "metadata": {
        "id": "4_u_EYpmnABK",
        "colab": {
          "base_uri": "https://localhost:8080/",
          "height": 590
        },
        "outputId": "778c8cdd-d68c-4c5e-ac85-075816e14e24"
      },
      "source": [
        "sample = train_X[2]\n",
        "plt.imshow(sample, cmap='gray')\n",
        "plt.show()\n",
        "\n",
        "# apply shear\n",
        "plt.imshow(shear(sample, 0.4), cmap='gray')"
      ],
      "execution_count": 13,
      "outputs": [
        {
          "output_type": "display_data",
          "data": {
            "text/plain": [
              "<Figure size 640x480 with 1 Axes>"
            ],
            "image/png": "[encoded data removed]"
          },
          "metadata": {}
        },
        {
          "output_type": "execute_result",
          "data": {
            "text/plain": [
              "<matplotlib.image.AxesImage at 0x7c638331ff10>"
            ]
          },
          "metadata": {},
          "execution_count": 13
        },
        {
          "output_type": "display_data",
          "data": {
            "text/plain": [
              "<Figure size 640x480 with 1 Axes>"
            ],
            "image/png": "[encoded data removed]"
          },
          "metadata": {}
        }
      ]
    },
    {
      "cell_type": "markdown",
      "metadata": {
        "id": "lGnWMoyM2pK4"
      },
      "source": [
        "Create an augmentation function which applies a random shear according to the constraint we provide:"
      ]
    },
    {
      "cell_type": "code",
      "metadata": {
        "id": "-qLDJyGytwP5"
      },
      "source": [
        "def augShear(sample, shearconstraint):\n",
        "  if shearconstraint==0:\n",
        "    return sample\n",
        "  if len(sample.shape)==2:\n",
        "    sample = np.expand_dims(sample, 0)  # make sure the sample is 3 dimensional\n",
        "  amt = rng.random(len(sample)) # generate random numbers for shear\n",
        "  amt = (amt-0.5)*shearconstraint # make the random shear constrained\n",
        "  nsample = sample.copy() # preallocate the augmented array to make it faster\n",
        "  for ii in range(len(sample)):\n",
        "    nsample[ii] = shear(sample[ii], amt[ii])\n",
        "  return np.squeeze(nsample) # take care if the input had only one sample."
      ],
      "execution_count": 14,
      "outputs": []
    },
    {
      "cell_type": "markdown",
      "metadata": {
        "id": "s6lQcWW93suJ"
      },
      "source": [
        "Let us do a grid search to find the best shear constraint."
      ]
    },
    {
      "cell_type": "code",
      "metadata": {
        "id": "l_wrqPkrzBb_",
        "colab": {
          "base_uri": "https://localhost:8080/"
        },
        "outputId": "b08217f2-ed1c-4057-c261-a829c8dce0f0"
      },
      "source": [
        "shearconstraints = [0, 0.2,0.4,0.6,0.8,1.0,1.2,1.4,1.6,1.8,2.0] # the values we want to test\n",
        "accuracies = np.zeros(len(shearconstraints), dtype=np.float) # we will save the values here\n",
        "\n",
        "for ii in range(len(shearconstraints)):\n",
        "  # create the augmented dataset\n",
        "  augdata = train_X # we include the original images also in the augmented dataset\n",
        "  auglabel = train_y\n",
        "  for jj in range(naugmentations):\n",
        "    augdata = np.concatenate((augdata, augShear(train_X, shearconstraints[ii]))) # concatenate the augmented data to the set\n",
        "    auglabel = np.concatenate((auglabel, train_y))  # the labels don't change when we augment\n",
        "\n",
        "  # check the test accuracy\n",
        "  testpred = NN(augdata, auglabel, test_X)\n",
        "  accuracies[ii] = Accuracy(test_y, testpred)\n",
        "  print('Accuracy after shear augmentation constrained by ',shearconstraints[ii], ' is ', accuracies[ii], flush=True)"
      ],
      "execution_count": null,
      "outputs": [
        {
          "output_type": "stream",
          "name": "stderr",
          "text": [
            "<ipython-input-15-8a89fef4983d>:2: DeprecationWarning: `np.float` is a deprecated alias for the builtin `float`. To silence this warning, use `float` by itself. Doing this will not modify any behavior and is safe. If you specifically wanted the numpy scalar type, use `np.float64` here.\n",
            "Deprecated in NumPy 1.20; for more details and guidance: https://numpy.org/devdocs/release/1.20.0-notes.html#deprecations\n",
            "  accuracies = np.zeros(len(shearconstraints), dtype=np.float) # we will save the values here\n"
          ]
        },
        {
          "output_type": "stream",
          "name": "stdout",
          "text": [
            "Accuracy after shear augmentation constrained by  0  is  0.6472\n",
            "Accuracy after shear augmentation constrained by  0.2  is  0.6147\n"
          ]
        }
      ]
    },
    {
      "cell_type": "code",
      "metadata": {
        "id": "EKaH-YR-zVnA"
      },
      "source": [
        "fig = plt.figure()\n",
        "ax = fig.add_axes([0.1, 0.1, 0.8, 0.8]) # main axes\n",
        "# plot the variation of accuracy\n",
        "ax.plot(shearconstraints, accuracies)\n",
        "ax.set_xlabel('angle')\n",
        "ax.set_ylabel('accuracy')\n",
        "# plot the maximum accuracy\n",
        "maxind = np.argmax(accuracies)\n",
        "plt.scatter(shearconstraints[maxind], accuracies[maxind], c='red')"
      ],
      "execution_count": null,
      "outputs": []
    },
    {
      "cell_type": "markdown",
      "metadata": {
        "id": "ccfdbRcQ7Zgg"
      },
      "source": [
        "We can do multiple augmentations at the same time. Here is a function to do both shear and rotation to the sample. In this case, we will have two hyperparameters."
      ]
    },
    {
      "cell_type": "code",
      "metadata": {
        "id": "sh8S_Pxa0XCv"
      },
      "source": [
        "def augRotateShear(sample, angleconstraint, shearconstraint):\n",
        "  if len(sample.shape)==2:\n",
        "    sample = np.expand_dims(sample, 0)  # make sure the sample is 3 dimensional\n",
        "  amt = rng.random(len(sample)) # generate random numbers for shear\n",
        "  amt = (amt-0.5)*shearconstraint # make the random shear constrained\n",
        "  angle = rng.random(len(sample)) # generate random numbers for angles\n",
        "  angle = (angle-0.5)*angleconstraint # make the random angle constrained\n",
        "  nsample = sample.copy() # preallocate the augmented array to make it faster\n",
        "  for ii in range(len(sample)):\n",
        "    nsample[ii] = rotate(shear(sample[ii], amt[ii]), angle[ii]) # first apply shear, then rotate\n",
        "  return np.squeeze(nsample) # take care if the input had only one sample."
      ],
      "execution_count": null,
      "outputs": []
    },
    {
      "cell_type": "markdown",
      "metadata": {
        "id": "OGKyjjNx-NQ4"
      },
      "source": [
        "Since we have two hyperparameters, we have to do the grid search on a 2 dimensional matrix. We can use our previous experience to inform where to search for the best hyperparameters."
      ]
    },
    {
      "cell_type": "code",
      "metadata": {
        "id": "TJC45WRg0pOP"
      },
      "source": [
        "shearconstraints = [0, 0.2,0.4,0.6,0.8,1.0,1.2,1.4,1.6] # the values we want to test\n",
        "angleconstraints = [0,10,20,30,40,50,60] # the values we want to test\n",
        "hyp = cartesian((shearconstraints, angleconstraints)) # cartesian product of both\n",
        "\n",
        "accuracies = np.zeros(len(hyp), dtype=np.float) # we will save the values here\n",
        "\n",
        "for ii in range(len(hyp)):\n",
        "  # create the augmented dataset\n",
        "  augdata = train_X # we include the original images also in the augmented dataset\n",
        "  auglabel = train_y\n",
        "  for jj in range(naugmentations):\n",
        "    augdata = np.concatenate((augdata, augRotateShear(train_X, hyp[ii][0], hyp[ii][1]))) # concatenate the augmented data to the set\n",
        "    auglabel = np.concatenate((auglabel, train_y))  # the labels don't change when we augment\n",
        "\n",
        "  # check the test accuracy\n",
        "  testpred = NN(augdata, auglabel, test_X)\n",
        "  accuracies[ii] = Accuracy(test_y, testpred)\n",
        "  print('Accuracy after augmentation shear:',hyp[ii][0], 'angle:',hyp[ii][1], ' is ', accuracies[ii], flush=True)"
      ],
      "execution_count": null,
      "outputs": []
    },
    {
      "cell_type": "markdown",
      "metadata": {
        "id": "PT6CnvSDEX7a"
      },
      "source": [
        "Let us plot it two dimensionally to see which is the best value for the hyperparameters:"
      ]
    },
    {
      "cell_type": "code",
      "metadata": {
        "id": "jD2i7msI_cLd"
      },
      "source": [
        "fig = plt.figure()\n",
        "ax = fig.add_axes([0.1, 0.1, 0.8, 0.8]) # main axes\n",
        "im = ax.imshow(accuracies.reshape((len(shearconstraints), len(angleconstraints))), cmap='inferno')\n",
        "ax.set_xlabel('angle')\n",
        "ax.set_ylabel('shear')\n",
        "ax.set_xticks(np.arange(len(angleconstraints)));\n",
        "ax.set_xticklabels(angleconstraints);\n",
        "ax.set_yticks(np.arange(len(shearconstraints)));\n",
        "ax.set_yticklabels(shearconstraints);\n",
        "plt.colorbar(im)"
      ],
      "execution_count": null,
      "outputs": []
    },
    {
      "cell_type": "markdown",
      "metadata": {
        "id": "OHcZWJiFJDMh"
      },
      "source": [
        "It seems that rotation and shear don't mix! The best accuracy is when rotation is zero."
      ]
    },
    {
      "cell_type": "markdown",
      "metadata": {
        "id": "PAasQo1C3x4A"
      },
      "source": [
        "## Questions\n",
        "Try these questions for better understanding. You may not be able to solve all of them.\n",
        "1. What is the best value for angle constraint and shear constraint you got? How much did the accuracy improve as compared to not using augmentations?\n",
        "2. Can you increase the accuracy by increasing the number of augmentations from each sample?\n",
        "3. Try implementing a few augmentations of your own and experimenting with them. A good reference is <a href=https://www.analyticsvidhya.com/blog/2019/12/image-augmentation-deep-learning-pytorch/>here. </a>\n",
        "4. Try combining various augmentations. What is the highest accuracy you can get? What is the smallest training dataset you can take and still get accuracy above 50%?\n",
        "\n",
        "Whenever you do any experiment, a good practice is to vary the hyperparameters gradually and create a graph of your results, like we did for gridsearch."
      ]
    },
    {
      "cell_type": "markdown",
      "source": [
        "1.Answer for first question:\n",
        "\n",
        "I'm sorry for any confusion, but your question seems to be related to a specific machine learning or computer vision task involving data augmentation techniques like angle and shear constraints. To answer this question, I would need more context and information about the specific task, dataset, and model you are referring to.\n",
        "\n",
        "The choice of the best values for angle and shear constraints in data augmentation can vary depending on the dataset and the problem you're trying to solve. There is no universally \"best\" value for these constraints, as they are hyperparameters that need to be tuned based on your specific use case.\n",
        "\n",
        "The impact of using augmentation techniques like angle and shear constraints on accuracy also depends on the task and dataset. In some cases, these augmentations can improve accuracy by making the model more robust to variations in the input data, while in other cases, they may not have a significant impact or could even hurt performance if not chosen carefully.\n",
        "\n",
        "To determine the best values for these constraints and their impact on accuracy, you would typically perform experiments with different values and evaluate the model's performance using metrics like accuracy, precision, recall, F1 score, etc., on a validation or test set. This experimentation and evaluation process is necessary to find the optimal hyperparameters for your specific problem.\n",
        "\n",
        "If you have more specific details about the task, dataset, and model you're working with, I'd be happy to provide more guidance or insights based on the information available up to my knowledge cutoff date in September 2021.\n",
        "\n",
        "2.Answer for third  question:\n",
        "\n",
        "Overfitting: Increasing the number of augmentations excessively can lead to overfitting. Overfitting occurs when a model becomes too specialized in the training data and performs poorly on new, unseen data. Augmentations should strike a balance between introducing diversity and avoiding overfitting.\n",
        "\n",
        "Computational Cost: More augmentations mean more data to process during training, which can significantly increase computational requirements, training time, and memory usage. This may not be practical in all situations, especially when working with limited resources.\n",
        "\n",
        "Diminishing Returns: There may be diminishing returns as you increase the number of augmentations. At some point, additional augmentations may not provide significant benefits in terms of accuracy improvement.\n",
        "\n",
        "Data Quality: The quality of the augmentations matters. Poorly applied augmentations can introduce noise or artifacts into the data, potentially harming model performance.\n",
        "\n",
        "Task-Specific Considerations: The impact of augmentations can vary depending on the specific task and dataset. Some tasks may benefit more from augmentations than others.\n",
        "\n",
        "To determine the optimal number of augmentations, it's often a good practice to experiment with different values and monitor the model's performance on a validation dataset. You can use techniques like cross-validation to assess how well the model generalizes to new data. Additionally, consider using data augmentation libraries that provide a variety of transformation options and allow you to control the augmentation process effectively.\n",
        "\n",
        "In summary, increasing the number of augmentations can be a useful strategy to improve model accuracy, but it should be done thoughtfully, taking into account the considerations mentioned above. The optimal number of augmentations will depend on the specific task and dataset, and experimentation is often necessary to find the right balance.\n",
        "\n",
        "3.Answer for third question:\n",
        "\n",
        "Overfitting: Increasing the number of augmentations excessively can lead to overfitting. Overfitting occurs when a model becomes too specialized in the training data and performs poorly on new, unseen data. Augmentations should strike a balance between introducing diversity and avoiding overfitting.\n",
        "\n",
        "Computational Cost: More augmentations mean more data to process during training, which can significantly increase computational requirements, training time, and memory usage. This may not be practical in all situations, especially when working with limited resources.\n",
        "\n",
        "Diminishing Returns: There may be diminishing returns as you increase the number of augmentations. At some point, additional augmentations may not provide significant benefits in terms of accuracy improvement.\n",
        "\n",
        "Data Quality: The quality of the augmentations matters. Poorly applied augmentations can introduce noise or artifacts into the data, potentially harming model performance.\n",
        "\n",
        "Task-Specific Considerations: The impact of augmentations can vary depending on the specific task and dataset. Some tasks may benefit more from augmentations than others.\n",
        "\n",
        "To determine the optimal number of augmentations, it's often a good practice to experiment with different values and monitor the model's performance on a validation dataset. You can use techniques like cross-validation to assess how well the model generalizes to new data. Additionally, consider using data augmentation libraries that provide a variety of transformation options and allow you to control the augmentation process effectively.\n",
        "\n",
        "In summary, increasing the number of augmentations can be a useful strategy to improve model accuracy, but it should be done thoughtfully, taking into account the considerations mentioned above. The optimal number of augmentations will depend on the specific task and dataset, and experimentation is often necessary to find the right balance.\n",
        "\n",
        "\n",
        "\n",
        "\n",
        "User\n",
        "Try implementing a few augmentations of your own and experimenting with them. A good reference is here.\n",
        "ChatGPT\n",
        "I'm unable to perform real-time image processing or run code, but I can provide you with examples of some common image augmentations and how you might implement them using popular Python libraries such as OpenCV and Pillow (PIL). You can experiment with these augmentations on your own. Here are a few augmentations:\n",
        "\n",
        "Rotation:\n",
        "\n",
        "OpenCV:\n",
        "python\n",
        "Copy code\n",
        "import cv2\n",
        "rotated_image = cv2.warpAffine(image, cv2.getRotationMatrix2D(center, angle, scale), (width, height))\n",
        "Pillow (PIL):\n",
        "python\n",
        "Copy code\n",
        "from PIL import Image\n",
        "rotated_image = image.rotate(angle, resample=Image.BICUBIC)\n",
        "Horizontal Flip:\n",
        "\n",
        "OpenCV:\n",
        "python\n",
        "Copy code\n",
        "flipped_image = cv2.flip(image, 1)\n",
        "Pillow (PIL):\n",
        "python\n",
        "Copy code\n",
        "flipped_image = image.transpose(Image.FLIP_LEFT_RIGHT)\n",
        "Brightness Adjustment:\n",
        "\n",
        "OpenCV:\n",
        "python\n",
        "Copy code\n",
        "alpha = 1.5  # Increase for brighter, decrease for darker\n",
        "beta = 10   # Increase for brighter, decrease for darker\n",
        "adjusted_image = cv2.convertScaleAbs(image, alpha=alpha, beta=beta)\n",
        "Pillow (PIL):\n",
        "python\n",
        "Copy code\n",
        "from PIL import ImageEnhance\n",
        "enhancer = ImageEnhance.Brightness(image)\n",
        "adjusted_image = enhancer.enhance(factor)  # Increase factor for brighter, decrease for darker\n",
        "Noise Addition (Gaussian Noise):\n",
        "\n",
        "You can use libraries like NumPy to add noise to the image.\n",
        "These are just a few examples of augmentations you can perform on images. Depending on your specific use case, you might want to combine multiple augmentations, control their parameters, and apply them randomly to create a diverse training dataset. Always remember to keep a validation dataset to evaluate how these augmentations affect your model's performance.\n",
        "\n",
        "For more advanced augmentations and efficient augmentation pipelines, you can consider using libraries like Augmentor, imgaug, or the augmentations provided by popular deep learning frameworks like TensorFlow and PyTorch. These libraries offer a wide range of image augmentation techniques and allow you to easily experiment with different augmentation strategies.\n",
        "\n",
        "\n",
        "\n",
        "\n",
        "User\n",
        "Try implementing a few augmentations of your own and experimenting with them. A good reference is here.\n",
        "ChatGPT\n",
        "I apologize for any confusion, but I'm unable to directly implement or run code, including image augmentations, in real-time. However, I can provide you with code examples for some common image augmentations using Python libraries like OpenCV and Pillow (PIL). You can then experiment with these augmentations on your own.\n",
        "\n",
        "Let's create code examples for a few common augmentations:\n",
        "\n",
        "Rotation:\n",
        "\n",
        "Using OpenCV:\n",
        "python\n",
        "Copy code\n",
        "import cv2\n",
        "import numpy as np\n",
        "\n",
        "# Load an image\n",
        "image = cv2.imread('your_image.jpg')\n",
        "\n",
        "# Define the rotation angle (in degrees)\n",
        "angle = 30  # Adjust as needed\n",
        "\n",
        "# Get the image dimensions\n",
        "height, width = image.shape[:2]\n",
        "\n",
        "# Calculate the rotation matrix\n",
        "rotation_matrix = cv2.getRotationMatrix2D((width / 2, height / 2), angle, 1)\n",
        "\n",
        "# Apply the rotation\n",
        "rotated_image = cv2.warpAffine(image, rotation_matrix, (width, height))\n",
        "\n",
        "# Display or save the rotated image\n",
        "cv2.imshow('Rotated Image', rotated_image)\n",
        "cv2.waitKey(0)\n",
        "cv2.destroyAllWindows()\n",
        "Horizontal Flip:\n",
        "\n",
        "Using OpenCV:\n",
        "python\n",
        "Copy code\n",
        "import cv2\n",
        "\n",
        "# Load an image\n",
        "image = cv2.imread('your_image.jpg')\n",
        "\n",
        "# Flip horizontally\n",
        "flipped_image = cv2.flip(image, 1)\n",
        "\n",
        "# Display or save the flipped image\n",
        "cv2.imshow('Flipped Image', flipped_image)\n",
        "cv2.waitKey(0)\n",
        "cv2.destroyAllWindows()\n",
        "Brightness Adjustment:\n",
        "\n",
        "Using OpenCV:\n",
        "python\n",
        "Copy code\n",
        "import cv2\n",
        "import numpy as np\n",
        "\n",
        "# Load an image\n",
        "image = cv2.imread('your_image.jpg')\n",
        "\n",
        "# Define brightness adjustment parameters\n",
        "alpha = 1.5  # Adjust for brightness (1.0 is no change)\n",
        "\n",
        "# Apply brightness adjustment\n",
        "adjusted_image = cv2.convertScaleAbs(image, alpha=alpha)\n",
        "\n",
        "# Display or save the adjusted image\n",
        "cv2.imshow('Adjusted Image', adjusted_image)\n",
        "cv2.waitKey(0)\n",
        "cv2.destroyAllWindows()\n",
        "Remember to replace 'your_image.jpg' with the path to your input image. You can adjust the augmentation parameters to fit your needs. Additionally, consider saving the augmented images if you want to use them for training or further analysis.\n",
        "\n",
        "Please note that the provided code examples are for basic augmentations. More advanced augmentations and efficient augmentation pipelines can be implemented using specialized libraries like Augmentor, imgaug, or deep learning frameworks like TensorFlow and PyTorch, which offer a wide range of augmentation techniques and options.\n",
        "\n",
        "4.Answer for fourth question:\n",
        "Select a Task and Dataset: Define the machine learning task you want to solve and choose a dataset that is appropriate for the task. The dataset should have a suitable number of samples and labels for training and evaluation.\n",
        "\n",
        "Split the Dataset: Divide your dataset into training, validation, and test sets. The validation set will be crucial for tuning hyperparameters and monitoring the model's performance during training.\n",
        "\n",
        "Design a Model: Create or select a machine learning model architecture that is suitable for your task. The model's complexity and capacity should match the size of your dataset.\n",
        "\n",
        "Implement Data Augmentations: Apply a variety of data augmentations to the training dataset. Common augmentations include rotation, scaling, flipping, brightness adjustments, and noise addition. You can also use libraries like Augmentor, imgaug, or data augmentation functions provided by deep learning frameworks.\n",
        "\n",
        "Experiment with Augmentations: Train your model with different combinations of augmentations, varying augmentation parameters, and different network architectures. Track the validation accuracy for each experiment.\n",
        "\n",
        "Monitor Validation Accuracy: Keep track of the highest validation accuracy achieved during training. This will give you an idea of the best performance achievable with your augmentations and model.\n",
        "\n",
        "Evaluate Test Accuracy: Once you've identified a combination of augmentations that gives you good validation accuracy, evaluate the model on the test dataset to obtain an accurate estimate of its performance.\n",
        "\n",
        "Determine Minimum Training Data: Gradually reduce the size of your training dataset and retrain the model with the selected augmentation strategy. Monitor the validation accuracy to see at what dataset size the accuracy drops below 50%.\n",
        "\n",
        "Fine-Tune: If the accuracy with the reduced training dataset is below your target, you can fine-tune the model or experiment with different augmentations to see if you can maintain a higher accuracy with a smaller dataset.\n",
        "\n",
        "It's important to note that achieving high accuracy with a small training dataset can be challenging, and the specific results will vary greatly depending on the task and dataset. Some tasks may require more data, while others may be more data-efficient.\n",
        "\n",
        "The process outlined above involves a lot of experimentation and fine-tuning to find the optimal combination of augmentations and dataset size. Additionally, using transfer learning (pre-trained models) can be beneficial when working with small datasets, as it allows you to leverage knowledge learned from larger datasets to improve performance."
      ],
      "metadata": {
        "id": "YSQCDi8QlgRO"
      }
    }
  ]
}